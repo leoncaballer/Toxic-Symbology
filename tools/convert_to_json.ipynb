{
 "cells": [
  {
   "cell_type": "code",
   "execution_count": 4,
   "metadata": {},
   "outputs": [
    {
     "name": "stdout",
     "output_type": "stream",
     "text": [
      "Mapping complete! Results saved to '20_clusters.json'.\n"
     ]
    }
   ],
   "source": [
    "import os\n",
    "import json\n",
    "\n",
    "# Load the toxic symbols data\n",
    "with open(r\"C:\\Users\\leonc\\Thesis 2024\\Toxic-Symbology\\OnToxMeme_dict.json\", \"r\") as f:\n",
    "    toxic_data = json.load(f)\n",
    "\n",
    "# Create a dictionary mapping image filenames to symbol names\n",
    "image_to_symbol_name = {}\n",
    "for symbol_id, details in toxic_data.items():\n",
    "    symbol_name = details.get(\"Title\", \"Unknown Symbol\")  # Fallback to \"Unknown Symbol\" if no title is found\n",
    "    for image in details.get(\"Referenced_in_meme\", []):\n",
    "        image_to_symbol_name[image] = symbol_name\n",
    "\n",
    "# Path to the main folder containing subfolders\n",
    "main_folder = r\"C:\\Users\\leonc\\Thesis 2024\\Toxic-Symbology\\Image Clustering\\20_clusters\"\n",
    "\n",
    "# Results dictionary\n",
    "results = {}\n",
    "\n",
    "# Traverse the folder\n",
    "for subfolder in os.listdir(main_folder):\n",
    "    subfolder_path = os.path.join(main_folder, subfolder)\n",
    "    if os.path.isdir(subfolder_path):\n",
    "        for image_file in os.listdir(subfolder_path):\n",
    "            if image_file in image_to_symbol_name:\n",
    "                symbol_name = image_to_symbol_name[image_file]\n",
    "                results[image_file] = {\"subfolder\": subfolder, \"symbol_name\": symbol_name}\n",
    "\n",
    "# Save the results to a JSON file\n",
    "with open(\"20_clusters.json\", \"w\") as f:\n",
    "    json.dump(results, f, indent=4)\n",
    "\n",
    "print(\"Mapping complete! Results saved to '20_clusters.json'.\")"
   ]
  }
 ],
 "metadata": {
  "kernelspec": {
   "display_name": "base",
   "language": "python",
   "name": "python3"
  },
  "language_info": {
   "codemirror_mode": {
    "name": "ipython",
    "version": 3
   },
   "file_extension": ".py",
   "mimetype": "text/x-python",
   "name": "python",
   "nbconvert_exporter": "python",
   "pygments_lexer": "ipython3",
   "version": "3.12.7"
  }
 },
 "nbformat": 4,
 "nbformat_minor": 2
}
