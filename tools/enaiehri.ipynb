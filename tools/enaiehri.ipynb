{
 "cells": [
  {
   "cell_type": "code",
   "execution_count": 2,
   "metadata": {},
   "outputs": [
    {
     "name": "stdout",
     "output_type": "stream",
     "text": [
      "Found 56 entries with 'referenced_in_meme' and saved to 'referenced_entries.json'\n"
     ]
    }
   ],
   "source": [
    "import json\n",
    "\n",
    "# Load the JSON file\n",
    "with open(r\"C:\\Users\\leonc\\Thesis 2024\\Toxic-Symbology\\tools\\OnToxMeme_dict.json\", \"r\") as file:\n",
    "    data = json.load(file)\n",
    "\n",
    "# Find entries with the 'referenced_in_meme' section\n",
    "referenced_entries = {\n",
    "    key: value\n",
    "    for key, value in data.items()\n",
    "    if \"Referenced_in_meme\" in value\n",
    "}\n",
    "\n",
    "# Save the filtered entries to a new JSON file\n",
    "with open(\"referenced_entries.json\", \"w\") as output_file:\n",
    "    json.dump(referenced_entries, output_file, indent=4)\n",
    "\n",
    "print(f\"Found {len(referenced_entries)} entries with 'referenced_in_meme' and saved to 'referenced_entries.json'\")\n"
   ]
  },
  {
   "cell_type": "code",
   "execution_count": 4,
   "metadata": {},
   "outputs": [
    {
     "name": "stdout",
     "output_type": "stream",
     "text": [
      "Result List: [0, 0, 0, 0, 0, 0, 1, 1, 1, 1, 1, 1, 1, 1, 1, 1, 1, 1, 1, 1, 1, 1, 2, 2, 2, 2, 2, 2, 2, 2, 2, 2, 2, 3, 3, 3, 3, 3, 3, 4, 4, 4, 4, 4, 4, 4, 5, 5, 5, 5, 5, 5, 6, 6, 6, 6, 6, 6, 7, 7, 7, 7, 7, 7, 7, 7, 8, 8, 8, 8, 8, 8, 8, 8, 8, 8, 9, 9, 9, 9, 9, 9, 9, 9, 10, 10, 10, 10, 10, 10, 10, 10, 10, 10, 11, 11, 11, 11, 11, 11, 11, 11, 11, 11, 11, 11, 11, 12, 12, 12, 12, 12, 12, 12, 12, 12, 13, 13, 13, 13, 13, 13, 13, 14, 14, 14, 14, 14, 14, 14, 14, 15, 15, 15, 15, 15, 15, 15, 15, 16, 16, 16, 16, 16, 16, 17, 17, 17, 17, 17, 17, 17, 17, 17, 17, 18, 18, 18, 18, 18, 18, 18, 18, 18, 18, 18, 18, 18, 19, 19, 19, 19, 20, 20, 20, 20, 20, 20, 20, 20, 20, 20, 20, 21, 21, 21, 21, 22, 22, 22, 22, 22, 22, 23, 23, 23, 23, 23, 23, 23, 24, 24, 24, 24, 24, 24, 24, 24, 24, 24, 25, 25, 25, 25, 25, 25, 25, 26, 26, 26, 26, 26, 26, 26, 26, 26, 26, 26, 26, 26, 26, 26, 26, 26, 27, 27, 27, 27, 27, 27, 27, 27, 27, 27, 27, 27, 27, 27, 28, 28, 28, 28, 28, 28, 29, 29, 29, 29, 29, 29, 29, 29, 29, 29, 29, 29, 29, 29, 30, 30, 30, 30, 30, 30, 30, 30, 30, 31, 31, 31, 31, 31, 31, 31, 31, 31, 32, 32, 32, 32, 32, 32, 32, 32, 32, 32, 32, 32, 33, 33, 33, 33, 33, 33, 33, 33, 33, 33, 34, 34, 34, 34, 34, 34, 34, 34, 34, 34, 34, 34, 34, 34, 34, 35, 35, 35, 35, 35, 35, 35, 35, 35, 35, 35, 35, 36, 36, 36, 36, 36, 36, 36, 36, 36, 36, 36, 36, 36, 36, 36, 36, 37, 37, 37, 37, 37, 37, 37, 37, 37, 38, 38, 38, 38, 38, 38, 38, 38, 38, 38, 38, 38, 38, 38, 39, 39, 39, 39, 39, 39, 39, 40, 40, 40, 40, 40, 40, 40, 41, 41, 41, 41, 41, 41, 41, 41, 41, 41, 41, 41, 41, 42, 43, 43, 43, 43, 43, 43, 43, 43, 43, 43, 44, 44, 44, 44, 44, 45, 45, 45, 45, 45, 45, 45, 45, 45, 45, 45, 45, 45, 46, 46, 46, 46, 46, 46, 46, 47, 47, 47, 47, 47, 47, 47, 47, 47, 47, 47, 47, 47, 48, 48, 48, 48, 48, 48, 48, 48, 48, 48, 48, 48, 48, 48, 48, 48, 49, 49, 49, 49, 49, 49, 49, 50, 50, 50, 50, 50, 50, 50, 50, 50, 51, 51, 52, 52, 52, 52, 52, 52, 52, 52, 52, 52, 52, 53, 53, 53, 53, 53, 53, 53, 53, 53, 53, 53, 53, 53, 53, 54, 54, 54, 54, 54, 54, 54, 54, 55, 55, 55, 55, 55, 55]\n",
      "Processed 56 entries and saved the result list to 'result_list.json'\n"
     ]
    }
   ],
   "source": [
    "# Load the filtered JSON file\n",
    "with open(\"referenced_entries.json\", \"r\") as file:\n",
    "    data = json.load(file)\n",
    "\n",
    "# Initialize the result list\n",
    "result_list = []\n",
    "\n",
    "# Process each entry\n",
    "increment_number = 0\n",
    "for entry_key, entry_value in data.items():\n",
    "    # Count the number of items in the Referenced_in_meme section\n",
    "    meme_count = len(entry_value.get(\"Referenced_in_meme\", []))\n",
    "    \n",
    "    # Add 'meme_count' number of values to the result list\n",
    "    for _ in range(meme_count):\n",
    "        result_list.append(increment_number)\n",
    "    \n",
    "    # Increment the number for the next entry\n",
    "    increment_number += 1\n",
    "\n",
    "# Output the result list\n",
    "print(\"Result List:\", result_list)\n",
    "\n",
    "# Save the result list to a file\n",
    "with open(\"result_list.json\", \"w\") as output_file:\n",
    "    json.dump(result_list, output_file, indent=4)\n",
    "\n",
    "print(f\"Processed {len(data)} entries and saved the result list to 'result_list.json'\")"
   ]
  }
 ],
 "metadata": {
  "kernelspec": {
   "display_name": "base",
   "language": "python",
   "name": "python3"
  },
  "language_info": {
   "codemirror_mode": {
    "name": "ipython",
    "version": 3
   },
   "file_extension": ".py",
   "mimetype": "text/x-python",
   "name": "python",
   "nbconvert_exporter": "python",
   "pygments_lexer": "ipython3",
   "version": "3.12.7"
  }
 },
 "nbformat": 4,
 "nbformat_minor": 2
}
