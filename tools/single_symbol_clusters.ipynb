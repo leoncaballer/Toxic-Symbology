{
 "cells": [
  {
   "cell_type": "code",
   "execution_count": 4,
   "metadata": {},
   "outputs": [
    {
     "name": "stdout",
     "output_type": "stream",
     "text": [
      "Subfolders with exactly one toxic symbol:\n",
      "Results saved to 'single_symbol_clusters.json'.\n"
     ]
    }
   ],
   "source": [
    "import json\n",
    "from collections import defaultdict\n",
    "\n",
    "# Load the mapping results\n",
    "with open(\"20_clusters.json\", \"r\") as f:\n",
    "    results = json.load(f)\n",
    "\n",
    "# Organize images by subfolder\n",
    "subfolder_to_symbols = defaultdict(set)\n",
    "for entry in results.values():\n",
    "    subfolder = entry[\"subfolder\"]\n",
    "    symbol_name = entry[\"symbol_name\"]\n",
    "    subfolder_to_symbols[subfolder].add(symbol_name)\n",
    "\n",
    "# Find subfolders with exactly one toxic symbol\n",
    "single_symbol_clusters = {\n",
    "    subfolder: list(symbols)[0]\n",
    "    for subfolder, symbols in subfolder_to_symbols.items()\n",
    "    if len(symbols) == 1\n",
    "}\n",
    "\n",
    "# Output results\n",
    "print(\"Subfolders with exactly one toxic symbol:\")\n",
    "for subfolder, symbol in single_symbol_clusters.items():\n",
    "    print(f\"Subfolder: {subfolder}, Toxic Symbol: {symbol}\")\n",
    "\n",
    "# Save the results to a JSON file\n",
    "with open(\"single_symbol_clusters.json\", \"w\") as f:\n",
    "    json.dump(single_symbol_clusters, f, indent=4)\n",
    "\n",
    "print(\"Results saved to 'single_symbol_clusters.json'.\")\n"
   ]
  }
 ],
 "metadata": {
  "kernelspec": {
   "display_name": "base",
   "language": "python",
   "name": "python3"
  },
  "language_info": {
   "codemirror_mode": {
    "name": "ipython",
    "version": 3
   },
   "file_extension": ".py",
   "mimetype": "text/x-python",
   "name": "python",
   "nbconvert_exporter": "python",
   "pygments_lexer": "ipython3",
   "version": "3.12.7"
  }
 },
 "nbformat": 4,
 "nbformat_minor": 2
}
