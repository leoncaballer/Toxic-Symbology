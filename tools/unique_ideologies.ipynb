{
 "cells": [
  {
   "cell_type": "code",
   "execution_count": 7,
   "metadata": {},
   "outputs": [
    {
     "name": "stdout",
     "output_type": "stream",
     "text": [
      "Ideology Counts (Sorted):\n",
      "White Nationalist: 39\n",
      "Neo-Nazi: 27\n",
      "Anti-Semitic: 9\n",
      "Conspiracy Theory: 7\n",
      "Anti-Immigrant: 7\n",
      "Fascist: 6\n",
      "Anti-Muslim: 5\n",
      "Anti-Woman: 4\n",
      "Incel: 4\n",
      "Accelerationist: 3\n",
      "Anti-Trans: 3\n",
      "Anti-LGBTQ: 3\n",
      "Antigovernment: 2\n",
      "Holocaust denial: 1\n",
      "Anti-Ukrainian: 1\n"
     ]
    }
   ],
   "source": [
    "import json\n",
    "from collections import Counter\n",
    "\n",
    "# Load your JSON file\n",
    "with open(r'C:\\Users\\leonc\\Thesis 2024\\Toxic-Symbology\\tools\\OnToxMeme_dict.json', 'r') as file:\n",
    "    data = json.load(file)\n",
    "\n",
    "\n",
    "# Count occurrences of each ideology, only for entries with 'referenced_in_meme'\n",
    "ideology_counts = Counter()\n",
    "\n",
    "for key, value in data.items():\n",
    "    # Check if 'referenced_in_meme' key exists\n",
    "    if \"Referenced_in_meme\" in value:\n",
    "        if \"Ideology\" in value:\n",
    "            # If Ideology is a list, iterate over the list and count each item\n",
    "            if isinstance(value[\"Ideology\"], list):\n",
    "                for ideology in value[\"Ideology\"]:\n",
    "                    ideology_counts[ideology] += 1\n",
    "            # If Ideology is a string, split it by commas (or any other delimiter) and count each one\n",
    "            elif isinstance(value[\"Ideology\"], str):\n",
    "                ideologies = value[\"Ideology\"].split(\",\")  # Split by commas if it's a string\n",
    "                for ideology in ideologies:\n",
    "                    ideology_counts[ideology.strip()] += 1  # Strip extra spaces\n",
    "\n",
    "# Sort by frequency (most_common returns a sorted list)\n",
    "sorted_ideologies = ideology_counts.most_common()\n",
    "\n",
    "# Print the sorted counts\n",
    "print(\"Ideology Counts (Sorted):\")\n",
    "for ideology, count in sorted_ideologies:\n",
    "    print(f\"{ideology}: {count}\")"
   ]
  }
 ],
 "metadata": {
  "kernelspec": {
   "display_name": "base",
   "language": "python",
   "name": "python3"
  },
  "language_info": {
   "codemirror_mode": {
    "name": "ipython",
    "version": 3
   },
   "file_extension": ".py",
   "mimetype": "text/x-python",
   "name": "python",
   "nbconvert_exporter": "python",
   "pygments_lexer": "ipython3",
   "version": "3.12.7"
  }
 },
 "nbformat": 4,
 "nbformat_minor": 2
}
